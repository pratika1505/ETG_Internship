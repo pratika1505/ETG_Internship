{
  "nbformat": 4,
  "nbformat_minor": 0,
  "metadata": {
    "colab": {
      "name": "Json_Based_Inventory.ipynb",
      "provenance": []
    },
    "kernelspec": {
      "name": "python3",
      "display_name": "Python 3"
    },
    "language_info": {
      "name": "python"
    }
  },
  "cells": [
    {
      "cell_type": "code",
      "metadata": {
        "id": "36aGqbUxALV2"
      },
      "source": [
        "fd = open(\"record.json\",'r')\n",
        "r = fd.read()\n",
        "fd.close()\n",
        "\n",
        "record = json.loads(r)"
      ],
      "execution_count": 11,
      "outputs": []
    },
    {
      "cell_type": "code",
      "metadata": {
        "colab": {
          "base_uri": "https://localhost:8080/"
        },
        "id": "93f0F42K98s2",
        "outputId": "f0854125-5312-4964-89f1-cf53697cdc8f"
      },
      "source": [
        "#importig json package\n",
        "import json\n",
        "\n",
        "\n",
        "    \n",
        "\n",
        "\n",
        "print(\"===========================================================================\")\n",
        "print(\"                            INVENTARY MANAGEMENT\")\n",
        "print(\"===========================================================================\")\n",
        "while(1):\n",
        "    print(\"\\n\\t\\tEnter 1 for See the Products\")\n",
        "    print(\"\\t\\tEnter 2 for Update the Products\")\n",
        "    print(\"\\t\\tEnter 3 for Puchase the Products\")\n",
        "    print(\"\\t\\tEnter 4 for See Sales Products\")\n",
        "    print(\"\\t\\tEnter 5 for Exit\")\n",
        "    \n",
        "    choice=input(\"\\n\\t\\tEnter Your Choice : \")\n",
        "\n",
        "    #For See the Product\n",
        "    if(choice=='1'):\n",
        "        record_file = open(\"record.json\",'r')\n",
        "        record_data = record_file.read()\n",
        "        records= json.loads(record_data)\n",
        "        print(\"Product Id.\" ,\"Product Name\",\"Price\", \"Quantity\",\"Group\",\"User Rating\")\n",
        "        for i in records.keys():\n",
        "            print(i,records[i]['name'],records[i]['price'],records[i]['amount'] ,records[i]['group'],records[i]['User-rating'])\n",
        "        record_file.close()\n",
        "\n",
        "    elif(choice=='2'):\n",
        "        record_file = open(\"record.json\",'r')\n",
        "        record_data = record_file.read()\n",
        "        record_file.close()\n",
        "        records= json.loads(record_data)\n",
        "        prod_id = str(input(\"Enter product id:\"))\n",
        "        name = str(input(\"Enter name:\"))\n",
        "        price = int(input(\"Enter price:\"))\n",
        "        amount = int(input(\"Enter quantity:\"))\n",
        "        group = str(input(\"Enter group:\"))\n",
        "        user_rating = int(input(\"Enter user rating\"))\n",
        "        record[prod_id] = {'name': name, 'price': price, 'amount': amount, 'group' : group, 'User-rating': user_rating}\n",
        "        js = json.dumps(record)\n",
        "        record_file  = open(\"record.json\",'w')\n",
        "        record_file .write(js)\n",
        "        record_file .close()\n",
        "\n",
        "\n",
        "    elif(choice=='3'):\n",
        "        record_file = open(\"record.json\",'r')\n",
        "        record_data = record_file.read()\n",
        "        record_file.close()\n",
        "        records= json.loads(record_data)\n",
        "        ui_prod  = input(\"\\t\\tEnter the product_Id: \")\n",
        "        ui_quant = int(input(\"\\t\\tEnter the quantity: \"))\n",
        "       \n",
        "        if(records[ui_prod]['amount']>=ui_quant):\n",
        "            print(\"\\n\\t\\t\\t|Product: \", records[ui_prod]['name'])\n",
        "            print(\"\\t\\t\\t|Price: \", records[ui_prod]['price'])\n",
        "            print(\"\\t\\t\\t|Billing Amount: \", records[ui_prod]['price'] * ui_quant)\n",
        "            print(\"\\t\\t\\t|Please Visit Again (*_*) \")\n",
        "            records[ui_prod]['amount'] = records[ui_prod]['amount'] - ui_quant\n",
        "\n",
        "            record_file = open(\"record.json\",'w')\n",
        "            record_file.close()\n",
        "            sales_file = open(\"sales.json\",'w')\n",
        "            all_data_sales = json.dumps(record)\n",
        "            sales_file.write(all_data_sales)\n",
        "            sales_file.close()\n",
        "            \n",
        "            record_file = open(\"record.json\",'w')\n",
        "            all_data = json.dumps(records)\n",
        "            record_file.write(all_data)\n",
        "            record_file.close()\n",
        "            #Opening sales.json data in read mode\n",
        "            sales_file = open(\"sales.json\",'r')\n",
        "            sales_data= sales_file.read()\n",
        "            sales_file.close()\n",
        "            record= json.loads(sales_data)\n",
        "            record[len(record)+1] = {'name':records[ui_prod]['name'], 'price':records[ui_prod]['price'], 'amount':ui_quant ,'group':records[ui_prod]['group'] ,'User Rating':records[ui_prod]['User-rating']}\n",
        "            #Opening sales.json file in writing mode to update the sales product\n",
        "\n",
        "           \n",
        "        else:\n",
        "            print(\"\\n\\t\\t Sorry!! We have only \"+str(records[ui_prod]['amount'])+\" Product!!\")\n",
        "\n",
        "    #To see the sale.json data\n",
        "    elif(choice=='4'):\n",
        "        sales_file = open(\"sales.json\",'r')\n",
        "        sales_data = sales_file.read()\n",
        "        records= json.loads(sales_data)\n",
        "       \n",
        "        print(\"Product Id.\" ,\"Product Name\",\"Price\", \"Quantity\",\"Group\",\"User Rating\")\n",
        "        for i in records.keys():\n",
        "            print(i,records[i]['name'],records[i]['price'],records[i]['amount'])\n",
        "        record_file.close()\n",
        "\n",
        "        sales_file.close()\n",
        "\n",
        "    #To Exit\n",
        "    elif(choice=='5'):\n",
        "        break\n",
        "\n",
        "    #Invalid Choice\n",
        "    else:\n",
        "        print(\"Invalid Choice!!\")"
      ],
      "execution_count": null,
      "outputs": [
        {
          "output_type": "stream",
          "name": "stdout",
          "text": [
            "===========================================================================\n",
            "                            INVENTARY MANAGEMENT\n",
            "===========================================================================\n",
            "\n",
            "\t\tEnter 1 for See the Products\n",
            "\t\tEnter 2 for Update the Products\n",
            "\t\tEnter 3 for Puchase the Products\n",
            "\t\tEnter 4 for See Sales Products\n",
            "\t\tEnter 5 for Exit\n"
          ]
        }
      ]
    }
  ]
}